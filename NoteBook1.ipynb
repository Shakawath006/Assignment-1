{
  "nbformat": 4,
  "nbformat_minor": 0,
  "metadata": {
    "colab": {
      "name": "Untitled0.ipynb",
      "provenance": [],
      "authorship_tag": "ABX9TyNTXH9BPVH80svEoAdNy/tv",
      "include_colab_link": true
    },
    "kernelspec": {
      "name": "python3",
      "display_name": "Python 3"
    }
  },
  "cells": [
    {
      "cell_type": "markdown",
      "metadata": {
        "id": "view-in-github",
        "colab_type": "text"
      },
      "source": [
        "<a href=\"https://colab.research.google.com/github/Shakawath006/Assignment-1/blob/main/NoteBook1.ipynb\" target=\"_parent\"><img src=\"https://colab.research.google.com/assets/colab-badge.svg\" alt=\"Open In Colab\"/></a>"
      ]
    },
    {
      "cell_type": "code",
      "metadata": {
        "colab": {
          "base_uri": "https://localhost:8080/"
        },
        "id": "8LK94NeXPHzN",
        "outputId": "4bf78c81-12f4-49cc-f9bb-e2abf57398f5"
      },
      "source": [
        "print(\"Hello World\")\r\n"
      ],
      "execution_count": 1,
      "outputs": [
        {
          "output_type": "stream",
          "text": [
            "Hello World\n"
          ],
          "name": "stdout"
        }
      ]
    },
    {
      "cell_type": "code",
      "metadata": {
        "colab": {
          "base_uri": "https://localhost:8080/"
        },
        "id": "7R7_bJjtQh31",
        "outputId": "ed711704-4cca-45ab-a6f8-3c5375a0786f"
      },
      "source": [
        "x=7 \r\n",
        "y=3\r\n",
        "print(x+y)\r\n",
        "\r\n",
        "10\r\n",
        "\r\n",
        "\r\n",
        "total = x+y \r\n",
        "print(total)\r\n",
        "\r\n",
        "10\r\n",
        "\r\n",
        "\r\n",
        "name = \"Adam\"\r\n",
        "name2 = \"Eva\"\r\n",
        "print(name , name2)\r\n",
        "\r\n",
        "\r\n",
        "\r\n"
      ],
      "execution_count": 9,
      "outputs": [
        {
          "output_type": "stream",
          "text": [
            "10\n",
            "10\n",
            "Adam Eva\n"
          ],
          "name": "stdout"
        }
      ]
    },
    {
      "cell_type": "code",
      "metadata": {
        "colab": {
          "base_uri": "https://localhost:8080/"
        },
        "id": "cq_kq8t5RPcs",
        "outputId": "4abf2834-bf89-4176-c59f-28a5891b8dcd"
      },
      "source": [
        "x =10\r\n",
        "type(x)\r\n",
        "\r\n",
        "int\r\n",
        "\r\n",
        "\r\n",
        "type(10.5)\r\n",
        "\r\n",
        "float\r\n",
        "\r\n",
        "\r\n",
        "type(name)\r\n"
      ],
      "execution_count": 10,
      "outputs": [
        {
          "output_type": "execute_result",
          "data": {
            "text/plain": [
              "str"
            ]
          },
          "metadata": {
            "tags": []
          },
          "execution_count": 10
        }
      ]
    },
    {
      "cell_type": "code",
      "metadata": {
        "colab": {
          "base_uri": "https://localhost:8080/"
        },
        "id": "Px7yFLbeSW2U",
        "outputId": "091485d5-4b10-44d7-85e7-884547f24bf1"
      },
      "source": [
        "x = 105\r\n",
        "y = 100\r\n",
        "\r\n",
        "\r\n",
        "\r\n",
        "x>y\r\n",
        "\r\n",
        "True\r\n",
        "\r\n",
        "\r\n",
        "x<y\r\n",
        "\r\n",
        "False\r\n",
        "\r\n",
        "\r\n",
        "x==y\r\n",
        "\r\n",
        "False\r\n",
        "\r\n",
        "\r\n",
        "x!=y\r\n",
        "\r\n",
        "True\r\n",
        "\r\n",
        "\r\n",
        "x>=y\r\n",
        "\r\n",
        "True\r\n",
        "\r\n",
        "\r\n",
        "x<=y\r\n",
        "\r\n",
        "False\r\n",
        "\r\n",
        "\r\n",
        "x = 3\r\n",
        "y = 10\r\n",
        "\r\n",
        "\r\n",
        "\r\n",
        "1 <= x <= 5\r\n",
        "\r\n",
        "True\r\n",
        "\r\n",
        "\r\n",
        "1 <= y <= 5\r\n",
        "\r\n",
        "False\r\n",
        "\r\n"
      ],
      "execution_count": 23,
      "outputs": [
        {
          "output_type": "execute_result",
          "data": {
            "text/plain": [
              "False"
            ]
          },
          "metadata": {
            "tags": []
          },
          "execution_count": 23
        }
      ]
    },
    {
      "cell_type": "code",
      "metadata": {
        "colab": {
          "base_uri": "https://localhost:8080/"
        },
        "id": "UtA-TGzlSmgr",
        "outputId": "4142afc8-02fd-4f2a-a02a-862622b9c633"
      },
      "source": [
        "\r\n",
        "print('Welcome', 'to', 'Python!')\r\n",
        "\r\n",
        "print('Welcome\\nto\\n\\nPython!')\r\n",
        "\r\n"
      ],
      "execution_count": 30,
      "outputs": [
        {
          "output_type": "stream",
          "text": [
            "Welcome to Python!\n",
            "Welcome\n",
            "to\n",
            "\n",
            "Python!\n"
          ],
          "name": "stdout"
        }
      ]
    },
    {
      "cell_type": "code",
      "metadata": {
        "colab": {
          "base_uri": "https://localhost:8080/"
        },
        "id": "GIEGMNOUUcE3",
        "outputId": "68b01046-2f1d-41b5-c197-ccb2d254f240"
      },
      "source": [
        "\r\n",
        "print('this is a longer string, so we \\ split it over two lines')\r\n",
        "\r\n",
        "\r\n",
        "print('Sum is', 7 + 3)\r\n",
        "\r\n"
      ],
      "execution_count": 32,
      "outputs": [
        {
          "output_type": "stream",
          "text": [
            "this is a longer string, so we \\ split it over two lines\n",
            "Sum is 10\n"
          ],
          "name": "stdout"
        }
      ]
    },
    {
      "cell_type": "code",
      "metadata": {
        "colab": {
          "base_uri": "https://localhost:8080/"
        },
        "id": "uOxU65AyUpBb",
        "outputId": "009479ba-cc62-4ae3-b7e3-e4f45a7f8686"
      },
      "source": [
        "\r\n",
        "print('int(5.2)', 'truncates 5.2 to', int(5.2))\r\n"
      ],
      "execution_count": 33,
      "outputs": [
        {
          "output_type": "stream",
          "text": [
            "int(5.2) truncates 5.2 to 5\n"
          ],
          "name": "stdout"
        }
      ]
    },
    {
      "cell_type": "code",
      "metadata": {
        "colab": {
          "base_uri": "https://localhost:8080/"
        },
        "id": "7aWs8bFFUu_i",
        "outputId": "1d015f37-1db7-4d9c-c429-b7d356e48933"
      },
      "source": [
        "print('int(5.2)', 'truncates 5.2 to', int(5.2))\r\n",
        "\r\n",
        "int(5.2) \r\n",
        "\r\n",
        "\r\n",
        "\r\n",
        "print('Display \"hi\" in quotes')\r\n",
        "\r\n"
      ],
      "execution_count": 37,
      "outputs": [
        {
          "output_type": "stream",
          "text": [
            "int(5.2) truncates 5.2 to 5\n",
            "Display \"hi\" in quotes\n"
          ],
          "name": "stdout"
        }
      ]
    },
    {
      "cell_type": "code",
      "metadata": {
        "colab": {
          "base_uri": "https://localhost:8080/"
        },
        "id": "a4OExRnPU_0D",
        "outputId": "a0732cc7-34b1-407f-9825-41d87793eb4e"
      },
      "source": [
        "print('Display \\'hi\\' in quotes')\r\n"
      ],
      "execution_count": 38,
      "outputs": [
        {
          "output_type": "stream",
          "text": [
            "Display 'hi' in quotes\n"
          ],
          "name": "stdout"
        }
      ]
    },
    {
      "cell_type": "code",
      "metadata": {
        "colab": {
          "base_uri": "https://localhost:8080/"
        },
        "id": "s5aIZutYVGF7",
        "outputId": "5c618169-dfd0-4695-ba78-6d23507caed0"
      },
      "source": [
        "\r\n",
        "print(\"Display the name O'Brien\")\r\n",
        "\r\n",
        "\r\n",
        "print(\"Display \\\"hi\\\" in quotes\")\r\n",
        "\r\n",
        "\r\n",
        "print(\"\"\"Display \"hi\" and 'bye' in quotes\"\"\")\r\n",
        "\r\n",
        "\r\n"
      ],
      "execution_count": 40,
      "outputs": [
        {
          "output_type": "stream",
          "text": [
            "Display the name O'Brien\n",
            "Display \"hi\" in quotes\n",
            "Display \"hi\" and 'bye' in quotes\n"
          ],
          "name": "stdout"
        }
      ]
    },
    {
      "cell_type": "code",
      "metadata": {
        "colab": {
          "base_uri": "https://localhost:8080/"
        },
        "id": "65cFVjodVaGM",
        "outputId": "a2f31c94-9a83-498a-868e-3dff3597b80e"
      },
      "source": [
        "\r\n",
        "\r\n",
        "a = 3.4536475856\r\n",
        "print (\"The value of number till 2 decimal place(using %) is : \",end=\"\") \r\n",
        "print ('%.2f' %a)\r\n",
        "\r\n",
        "\r\n",
        "\r\n",
        "# using \"%\" to print value till 4 decimal places\r\n",
        "print (\"The value of number till 2 decimal place(using %) is : \",end=\"\") \r\n",
        "print ('%.4f' %a)\r\n",
        "\r\n",
        "\r\n",
        "name = input(\"What's your name? \")\r\n",
        "\r\n",
        "\r\n",
        "\r\n",
        "print(name)\r\n",
        "\r\n",
        "\r\n",
        "\r\n",
        "\r\n",
        "value1 = input('Enter first number: ') \r\n",
        "value2 = input('Enter second number: ')\r\n"
      ],
      "execution_count": 50,
      "outputs": [
        {
          "output_type": "stream",
          "text": [
            "The value of number till 2 decimal place(using %) is : 3.45\n",
            "The value of number till 2 decimal place(using %) is : 3.4536\n",
            "What's your name? sifat\n",
            "sifat\n",
            "Enter first number: 12\n",
            "Enter second number: 11\n"
          ],
          "name": "stdout"
        }
      ]
    },
    {
      "cell_type": "code",
      "metadata": {
        "id": "siMNHr4PV9vk"
      },
      "source": [
        "\r\n",
        "a, b = input().split()\r\n",
        "\r\n",
        "\r\n",
        "print(a , b)\r\n",
        "\r\n",
        "print(type(a))\r\n",
        "\r\n"
      ],
      "execution_count": null,
      "outputs": []
    },
    {
      "cell_type": "code",
      "metadata": {
        "colab": {
          "base_uri": "https://localhost:8080/",
          "height": 282
        },
        "id": "TpIEgDPyWRkj",
        "outputId": "0719741b-8b7d-485e-ca6b-326e8434f5b7"
      },
      "source": [
        "number1 = int(input('Enter first integer: ')) \r\n",
        "number2 = int(input('Enter second integer: ')) \r\n",
        "number3 = int(input('Enter third integer: '))\r\n",
        "\r\n",
        "\r\n",
        "min(number1,number2,number3)\r\n",
        "2\r\n",
        "max(number1,number2,number3)\r\n",
        "\r\n",
        "print('x =', x)\r\n",
        "print('Value of', x, '+', x, 'is', (x + x)) \r\n",
        "print('x =')\r\n",
        "print((x + y), '=', (y + x))\r\n"
      ],
      "execution_count": 61,
      "outputs": [
        {
          "output_type": "stream",
          "text": [
            "Enter first integer: 2\n",
            "Enter second integer: 2\n",
            "Enter third integer: \n"
          ],
          "name": "stdout"
        },
        {
          "output_type": "error",
          "ename": "ValueError",
          "evalue": "ignored",
          "traceback": [
            "\u001b[0;31m---------------------------------------------------------------------------\u001b[0m",
            "\u001b[0;31mValueError\u001b[0m                                Traceback (most recent call last)",
            "\u001b[0;32m<ipython-input-61-5848e2b16d9f>\u001b[0m in \u001b[0;36m<module>\u001b[0;34m()\u001b[0m\n\u001b[1;32m      1\u001b[0m \u001b[0mnumber1\u001b[0m \u001b[0;34m=\u001b[0m \u001b[0mint\u001b[0m\u001b[0;34m(\u001b[0m\u001b[0minput\u001b[0m\u001b[0;34m(\u001b[0m\u001b[0;34m'Enter first integer: '\u001b[0m\u001b[0;34m)\u001b[0m\u001b[0;34m)\u001b[0m\u001b[0;34m\u001b[0m\u001b[0;34m\u001b[0m\u001b[0m\n\u001b[1;32m      2\u001b[0m \u001b[0mnumber2\u001b[0m \u001b[0;34m=\u001b[0m \u001b[0mint\u001b[0m\u001b[0;34m(\u001b[0m\u001b[0minput\u001b[0m\u001b[0;34m(\u001b[0m\u001b[0;34m'Enter second integer: '\u001b[0m\u001b[0;34m)\u001b[0m\u001b[0;34m)\u001b[0m\u001b[0;34m\u001b[0m\u001b[0;34m\u001b[0m\u001b[0m\n\u001b[0;32m----> 3\u001b[0;31m \u001b[0mnumber3\u001b[0m \u001b[0;34m=\u001b[0m \u001b[0mint\u001b[0m\u001b[0;34m(\u001b[0m\u001b[0minput\u001b[0m\u001b[0;34m(\u001b[0m\u001b[0;34m'Enter third integer: '\u001b[0m\u001b[0;34m)\u001b[0m\u001b[0;34m)\u001b[0m\u001b[0;34m\u001b[0m\u001b[0;34m\u001b[0m\u001b[0m\n\u001b[0m\u001b[1;32m      4\u001b[0m \u001b[0;34m\u001b[0m\u001b[0m\n\u001b[1;32m      5\u001b[0m \u001b[0;34m\u001b[0m\u001b[0m\n",
            "\u001b[0;31mValueError\u001b[0m: invalid literal for int() with base 10: ''"
          ]
        }
      ]
    }
  ]
}