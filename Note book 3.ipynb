{
  "nbformat": 4,
  "nbformat_minor": 0,
  "metadata": {
    "colab": {
      "name": "Untitled2.ipynb",
      "provenance": [],
      "authorship_tag": "ABX9TyNYthJLmwpTqstb++pdZJ8F",
      "include_colab_link": true
    },
    "kernelspec": {
      "name": "python3",
      "display_name": "Python 3"
    }
  },
  "cells": [
    {
      "cell_type": "markdown",
      "metadata": {
        "id": "view-in-github",
        "colab_type": "text"
      },
      "source": [
        "<a href=\"https://colab.research.google.com/github/Shakawath006/Assignment-1/blob/main/Note%20book%203.ipynb\" target=\"_parent\"><img src=\"https://colab.research.google.com/assets/colab-badge.svg\" alt=\"Open In Colab\"/></a>"
      ]
    },
    {
      "cell_type": "code",
      "metadata": {
        "colab": {
          "base_uri": "https://localhost:8080/"
        },
        "id": "a7arE7mxemmk",
        "outputId": "c6dfc7d9-f1d0-45e8-ad09-0cec6196f784"
      },
      "source": [
        "#built-in functions \r\n",
        "print(\"Hi, I am semi-colon. Do you miss me?\") \r\n",
        "input(\"Let me know if you miss me or not. \") \r\n",
        "a=10 \r\n",
        "b=21 \r\n",
        "print(max(a,b)) \r\n",
        "print(min(a,b)) \r\n",
        "c=10.4 \r\n",
        "d=int(c) \r\n",
        "print(d) \r\n",
        "e=\"python\" \r\n",
        "print(type(e)) \r\n"
      ],
      "execution_count": 6,
      "outputs": [
        {
          "output_type": "stream",
          "text": [
            "Hi, I am semi-colon. Do you miss me?\n",
            "Let me know if you miss me or not. me\n",
            "21\n",
            "10\n",
            "10\n",
            "<class 'str'>\n"
          ],
          "name": "stdout"
        }
      ]
    },
    {
      "cell_type": "code",
      "metadata": {
        "colab": {
          "base_uri": "https://localhost:8080/"
        },
        "id": "cW05NkFOfdCb",
        "outputId": "3d85305d-dd27-43dd-d23b-544ecdaa002a"
      },
      "source": [
        "#user defined function \r\n",
        "def sum(a, b): \r\n",
        "  c=a+b \r\n",
        "  return c \r\n",
        "a= int(input(\"Enter a number: \")) \r\n",
        "b=int(input(\"Enter a number: \")) \r\n",
        "d=sum(a,b) \r\n",
        "print(\"The sum is\", d) \r\n"
      ],
      "execution_count": 26,
      "outputs": [
        {
          "output_type": "stream",
          "text": [
            "Enter a number: 10\n",
            "Enter a number: 10\n",
            "The sum is 20\n"
          ],
          "name": "stdout"
        }
      ]
    },
    {
      "cell_type": "code",
      "metadata": {
        "colab": {
          "base_uri": "https://localhost:8080/",
          "height": 129
        },
        "id": "LApwvgg6jnoD",
        "outputId": "a4820057-1c04-4751-a30f-28528e63f568"
      },
      "source": [
        "def divisor(x,y,m): \r\n",
        "  if x%m==0 and y%m==0:\r\n",
        "     print(\"%d & %d are divisible by %d\"%(x,y,m))\r\n",
        "     elif x%m ==0:\r\n",
        "       print(\"only %d is divisible by %d\"%(x,m)) \r\n",
        "    elif y%m==0:\r\n",
        "        print(\"only %d is divisible by %d\"%(y,m))\r\n",
        "     else: \r\n",
        "         print(\"none of %d & %d is divisible by %d\"%(x,y,d)) \r\n",
        "divisor(10,20,5)\r\n",
        " divisor(12,20,5) \r\n",
        " divisor(10,22,5)\r\n",
        "  divisor(2,5,3)\r\n"
      ],
      "execution_count": 30,
      "outputs": [
        {
          "output_type": "error",
          "ename": "SyntaxError",
          "evalue": "ignored",
          "traceback": [
            "\u001b[0;36m  File \u001b[0;32m\"<ipython-input-30-8e3e6053d184>\"\u001b[0;36m, line \u001b[0;32m4\u001b[0m\n\u001b[0;31m    elif x%m ==0:\u001b[0m\n\u001b[0m       ^\u001b[0m\n\u001b[0;31mSyntaxError\u001b[0m\u001b[0;31m:\u001b[0m invalid syntax\n"
          ]
        }
      ]
    },
    {
      "cell_type": "code",
      "metadata": {
        "colab": {
          "base_uri": "https://localhost:8080/"
        },
        "id": "EO1-xlyzlZt8",
        "outputId": "dea24f36-a45d-485c-8e5d-817664ffad19"
      },
      "source": [
        "def sum(): \r\n",
        "  \r\n",
        "  a=3+8 \r\n",
        "  return a \r\n",
        "b=sum()\r\n",
        "print(b) \r\n"
      ],
      "execution_count": 21,
      "outputs": [
        {
          "output_type": "stream",
          "text": [
            "11\n"
          ],
          "name": "stdout"
        }
      ]
    },
    {
      "cell_type": "code",
      "metadata": {
        "colab": {
          "base_uri": "https://localhost:8080/",
          "height": 129
        },
        "id": "pc1E0d0Ilp8R",
        "outputId": "e9696cf5-0d9f-45d4-c438-e200b6a3676d"
      },
      "source": [
        "def check(a=0):\r\n",
        "   if a==0:\r\n",
        "      print(\"Zero\") \r\n",
        "      elif a>0:\r\n",
        "         print(\"Positive\") \r\n",
        "         else: \r\n",
        "           print(\"Negative\") \r\n"
      ],
      "execution_count": 22,
      "outputs": [
        {
          "output_type": "error",
          "ename": "SyntaxError",
          "evalue": "ignored",
          "traceback": [
            "\u001b[0;36m  File \u001b[0;32m\"<ipython-input-22-15c46e676e3c>\"\u001b[0;36m, line \u001b[0;32m4\u001b[0m\n\u001b[0;31m    elif a>0:\u001b[0m\n\u001b[0m       ^\u001b[0m\n\u001b[0;31mSyntaxError\u001b[0m\u001b[0;31m:\u001b[0m invalid syntax\n"
          ]
        }
      ]
    },
    {
      "cell_type": "code",
      "metadata": {
        "colab": {
          "base_uri": "https://localhost:8080/",
          "height": 129
        },
        "id": "Cd5YBZwNqdjT",
        "outputId": "55962580-f806-4943-bdaa-c9f2d661f15a"
      },
      "source": [
        "def local_scope(): \r\n",
        "  x=7 \r\n",
        "  print(x) \r\n",
        "local_scope() \r\n",
        " print(x) \r\n"
      ],
      "execution_count": 25,
      "outputs": [
        {
          "output_type": "error",
          "ename": "IndentationError",
          "evalue": "ignored",
          "traceback": [
            "\u001b[0;36m  File \u001b[0;32m\"<ipython-input-25-58cd3b25b7e5>\"\u001b[0;36m, line \u001b[0;32m5\u001b[0m\n\u001b[0;31m    print(x)\u001b[0m\n\u001b[0m    ^\u001b[0m\n\u001b[0;31mIndentationError\u001b[0m\u001b[0;31m:\u001b[0m unexpected indent\n"
          ]
        }
      ]
    }
  ]
}